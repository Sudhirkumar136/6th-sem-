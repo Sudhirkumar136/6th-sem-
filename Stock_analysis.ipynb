{
  "cells": [
    {
      "cell_type": "markdown",
      "metadata": {
        "id": "view-in-github",
        "colab_type": "text"
      },
      "source": [
        "<a href=\"https://colab.research.google.com/github/Sudhirkumar136/g-assistance-guide/blob/main/Stock_analysis.ipynb\" target=\"_parent\"><img src=\"https://colab.research.google.com/assets/colab-badge.svg\" alt=\"Open In Colab\"/></a>"
      ]
    },
    {
      "cell_type": "code",
      "execution_count": 73,
      "metadata": {
        "id": "4qmSbF3ls_ZW"
      },
      "outputs": [],
      "source": [
        "import  numpy as np\n",
        "import pandas as pd\n",
        "import matplotlib.pyplot as plt\n",
        "import tensorflow as tf\n",
        "from tensorflow import keras"
      ]
    },
    {
      "cell_type": "code",
      "execution_count": 74,
      "metadata": {
        "id": "dcS_SQE87jMx"
      },
      "outputs": [],
      "source": [
        "df = pd.read_csv('AAPL.csv',index_col='Date',parse_dates=['Date'])"
      ]
    },
    {
      "cell_type": "code",
      "execution_count": 75,
      "metadata": {
        "colab": {
          "base_uri": "https://localhost:8080/",
          "height": 238
        },
        "id": "MJbQOk928Z37",
        "outputId": "74db5f7d-1658-40cd-fce9-1f2e06333d2f"
      },
      "outputs": [
        {
          "output_type": "execute_result",
          "data": {
            "text/plain": [
              "                Open      High       Low     Close  Adj Close     Volume\n",
              "Date                                                                    \n",
              "1980-12-12  0.128348  0.128906  0.128348  0.128348   0.100178  469033600\n",
              "1980-12-15  0.122210  0.122210  0.121652  0.121652   0.094952  175884800\n",
              "1980-12-16  0.113281  0.113281  0.112723  0.112723   0.087983  105728000\n",
              "1980-12-17  0.115513  0.116071  0.115513  0.115513   0.090160   86441600\n",
              "1980-12-18  0.118862  0.119420  0.118862  0.118862   0.092774   73449600"
            ],
            "text/html": [
              "\n",
              "  <div id=\"df-f17c3ceb-6b03-414b-a15d-12c9dda0bf37\">\n",
              "    <div class=\"colab-df-container\">\n",
              "      <div>\n",
              "<style scoped>\n",
              "    .dataframe tbody tr th:only-of-type {\n",
              "        vertical-align: middle;\n",
              "    }\n",
              "\n",
              "    .dataframe tbody tr th {\n",
              "        vertical-align: top;\n",
              "    }\n",
              "\n",
              "    .dataframe thead th {\n",
              "        text-align: right;\n",
              "    }\n",
              "</style>\n",
              "<table border=\"1\" class=\"dataframe\">\n",
              "  <thead>\n",
              "    <tr style=\"text-align: right;\">\n",
              "      <th></th>\n",
              "      <th>Open</th>\n",
              "      <th>High</th>\n",
              "      <th>Low</th>\n",
              "      <th>Close</th>\n",
              "      <th>Adj Close</th>\n",
              "      <th>Volume</th>\n",
              "    </tr>\n",
              "    <tr>\n",
              "      <th>Date</th>\n",
              "      <th></th>\n",
              "      <th></th>\n",
              "      <th></th>\n",
              "      <th></th>\n",
              "      <th></th>\n",
              "      <th></th>\n",
              "    </tr>\n",
              "  </thead>\n",
              "  <tbody>\n",
              "    <tr>\n",
              "      <th>1980-12-12</th>\n",
              "      <td>0.128348</td>\n",
              "      <td>0.128906</td>\n",
              "      <td>0.128348</td>\n",
              "      <td>0.128348</td>\n",
              "      <td>0.100178</td>\n",
              "      <td>469033600</td>\n",
              "    </tr>\n",
              "    <tr>\n",
              "      <th>1980-12-15</th>\n",
              "      <td>0.122210</td>\n",
              "      <td>0.122210</td>\n",
              "      <td>0.121652</td>\n",
              "      <td>0.121652</td>\n",
              "      <td>0.094952</td>\n",
              "      <td>175884800</td>\n",
              "    </tr>\n",
              "    <tr>\n",
              "      <th>1980-12-16</th>\n",
              "      <td>0.113281</td>\n",
              "      <td>0.113281</td>\n",
              "      <td>0.112723</td>\n",
              "      <td>0.112723</td>\n",
              "      <td>0.087983</td>\n",
              "      <td>105728000</td>\n",
              "    </tr>\n",
              "    <tr>\n",
              "      <th>1980-12-17</th>\n",
              "      <td>0.115513</td>\n",
              "      <td>0.116071</td>\n",
              "      <td>0.115513</td>\n",
              "      <td>0.115513</td>\n",
              "      <td>0.090160</td>\n",
              "      <td>86441600</td>\n",
              "    </tr>\n",
              "    <tr>\n",
              "      <th>1980-12-18</th>\n",
              "      <td>0.118862</td>\n",
              "      <td>0.119420</td>\n",
              "      <td>0.118862</td>\n",
              "      <td>0.118862</td>\n",
              "      <td>0.092774</td>\n",
              "      <td>73449600</td>\n",
              "    </tr>\n",
              "  </tbody>\n",
              "</table>\n",
              "</div>\n",
              "      <button class=\"colab-df-convert\" onclick=\"convertToInteractive('df-f17c3ceb-6b03-414b-a15d-12c9dda0bf37')\"\n",
              "              title=\"Convert this dataframe to an interactive table.\"\n",
              "              style=\"display:none;\">\n",
              "        \n",
              "  <svg xmlns=\"http://www.w3.org/2000/svg\" height=\"24px\"viewBox=\"0 0 24 24\"\n",
              "       width=\"24px\">\n",
              "    <path d=\"M0 0h24v24H0V0z\" fill=\"none\"/>\n",
              "    <path d=\"M18.56 5.44l.94 2.06.94-2.06 2.06-.94-2.06-.94-.94-2.06-.94 2.06-2.06.94zm-11 1L8.5 8.5l.94-2.06 2.06-.94-2.06-.94L8.5 2.5l-.94 2.06-2.06.94zm10 10l.94 2.06.94-2.06 2.06-.94-2.06-.94-.94-2.06-.94 2.06-2.06.94z\"/><path d=\"M17.41 7.96l-1.37-1.37c-.4-.4-.92-.59-1.43-.59-.52 0-1.04.2-1.43.59L10.3 9.45l-7.72 7.72c-.78.78-.78 2.05 0 2.83L4 21.41c.39.39.9.59 1.41.59.51 0 1.02-.2 1.41-.59l7.78-7.78 2.81-2.81c.8-.78.8-2.07 0-2.86zM5.41 20L4 18.59l7.72-7.72 1.47 1.35L5.41 20z\"/>\n",
              "  </svg>\n",
              "      </button>\n",
              "      \n",
              "  <style>\n",
              "    .colab-df-container {\n",
              "      display:flex;\n",
              "      flex-wrap:wrap;\n",
              "      gap: 12px;\n",
              "    }\n",
              "\n",
              "    .colab-df-convert {\n",
              "      background-color: #E8F0FE;\n",
              "      border: none;\n",
              "      border-radius: 50%;\n",
              "      cursor: pointer;\n",
              "      display: none;\n",
              "      fill: #1967D2;\n",
              "      height: 32px;\n",
              "      padding: 0 0 0 0;\n",
              "      width: 32px;\n",
              "    }\n",
              "\n",
              "    .colab-df-convert:hover {\n",
              "      background-color: #E2EBFA;\n",
              "      box-shadow: 0px 1px 2px rgba(60, 64, 67, 0.3), 0px 1px 3px 1px rgba(60, 64, 67, 0.15);\n",
              "      fill: #174EA6;\n",
              "    }\n",
              "\n",
              "    [theme=dark] .colab-df-convert {\n",
              "      background-color: #3B4455;\n",
              "      fill: #D2E3FC;\n",
              "    }\n",
              "\n",
              "    [theme=dark] .colab-df-convert:hover {\n",
              "      background-color: #434B5C;\n",
              "      box-shadow: 0px 1px 3px 1px rgba(0, 0, 0, 0.15);\n",
              "      filter: drop-shadow(0px 1px 2px rgba(0, 0, 0, 0.3));\n",
              "      fill: #FFFFFF;\n",
              "    }\n",
              "  </style>\n",
              "\n",
              "      <script>\n",
              "        const buttonEl =\n",
              "          document.querySelector('#df-f17c3ceb-6b03-414b-a15d-12c9dda0bf37 button.colab-df-convert');\n",
              "        buttonEl.style.display =\n",
              "          google.colab.kernel.accessAllowed ? 'block' : 'none';\n",
              "\n",
              "        async function convertToInteractive(key) {\n",
              "          const element = document.querySelector('#df-f17c3ceb-6b03-414b-a15d-12c9dda0bf37');\n",
              "          const dataTable =\n",
              "            await google.colab.kernel.invokeFunction('convertToInteractive',\n",
              "                                                     [key], {});\n",
              "          if (!dataTable) return;\n",
              "\n",
              "          const docLinkHtml = 'Like what you see? Visit the ' +\n",
              "            '<a target=\"_blank\" href=https://colab.research.google.com/notebooks/data_table.ipynb>data table notebook</a>'\n",
              "            + ' to learn more about interactive tables.';\n",
              "          element.innerHTML = '';\n",
              "          dataTable['output_type'] = 'display_data';\n",
              "          await google.colab.output.renderOutput(dataTable, element);\n",
              "          const docLink = document.createElement('div');\n",
              "          docLink.innerHTML = docLinkHtml;\n",
              "          element.appendChild(docLink);\n",
              "        }\n",
              "      </script>\n",
              "    </div>\n",
              "  </div>\n",
              "  "
            ]
          },
          "metadata": {},
          "execution_count": 75
        }
      ],
      "source": [
        "df.head()"
      ]
    },
    {
      "cell_type": "code",
      "execution_count": 76,
      "metadata": {
        "colab": {
          "base_uri": "https://localhost:8080/",
          "height": 238
        },
        "id": "4EEn3H2fhFpM",
        "outputId": "1063160a-e51f-45f2-e070-3af31b48984c"
      },
      "outputs": [
        {
          "output_type": "execute_result",
          "data": {
            "text/plain": [
              "                  Open        High         Low       Close   Adj Close  \\\n",
              "Date                                                                     \n",
              "2022-05-13  144.589996  148.100006  143.110001  147.110001  147.110001   \n",
              "2022-05-16  145.550003  147.520004  144.179993  145.539993  145.539993   \n",
              "2022-05-17  148.860001  149.770004  146.679993  149.240005  149.240005   \n",
              "2022-05-18  146.850006  147.360001  139.899994  140.820007  140.820007   \n",
              "2022-05-19  139.880005  141.660004  136.600006  137.350006  137.350006   \n",
              "\n",
              "               Volume  \n",
              "Date                   \n",
              "2022-05-13  113787000  \n",
              "2022-05-16   86643800  \n",
              "2022-05-17   78336300  \n",
              "2022-05-18  109742900  \n",
              "2022-05-19  136095600  "
            ],
            "text/html": [
              "\n",
              "  <div id=\"df-b8092251-bf60-4de4-b45c-c1d8b5f5af3e\">\n",
              "    <div class=\"colab-df-container\">\n",
              "      <div>\n",
              "<style scoped>\n",
              "    .dataframe tbody tr th:only-of-type {\n",
              "        vertical-align: middle;\n",
              "    }\n",
              "\n",
              "    .dataframe tbody tr th {\n",
              "        vertical-align: top;\n",
              "    }\n",
              "\n",
              "    .dataframe thead th {\n",
              "        text-align: right;\n",
              "    }\n",
              "</style>\n",
              "<table border=\"1\" class=\"dataframe\">\n",
              "  <thead>\n",
              "    <tr style=\"text-align: right;\">\n",
              "      <th></th>\n",
              "      <th>Open</th>\n",
              "      <th>High</th>\n",
              "      <th>Low</th>\n",
              "      <th>Close</th>\n",
              "      <th>Adj Close</th>\n",
              "      <th>Volume</th>\n",
              "    </tr>\n",
              "    <tr>\n",
              "      <th>Date</th>\n",
              "      <th></th>\n",
              "      <th></th>\n",
              "      <th></th>\n",
              "      <th></th>\n",
              "      <th></th>\n",
              "      <th></th>\n",
              "    </tr>\n",
              "  </thead>\n",
              "  <tbody>\n",
              "    <tr>\n",
              "      <th>2022-05-13</th>\n",
              "      <td>144.589996</td>\n",
              "      <td>148.100006</td>\n",
              "      <td>143.110001</td>\n",
              "      <td>147.110001</td>\n",
              "      <td>147.110001</td>\n",
              "      <td>113787000</td>\n",
              "    </tr>\n",
              "    <tr>\n",
              "      <th>2022-05-16</th>\n",
              "      <td>145.550003</td>\n",
              "      <td>147.520004</td>\n",
              "      <td>144.179993</td>\n",
              "      <td>145.539993</td>\n",
              "      <td>145.539993</td>\n",
              "      <td>86643800</td>\n",
              "    </tr>\n",
              "    <tr>\n",
              "      <th>2022-05-17</th>\n",
              "      <td>148.860001</td>\n",
              "      <td>149.770004</td>\n",
              "      <td>146.679993</td>\n",
              "      <td>149.240005</td>\n",
              "      <td>149.240005</td>\n",
              "      <td>78336300</td>\n",
              "    </tr>\n",
              "    <tr>\n",
              "      <th>2022-05-18</th>\n",
              "      <td>146.850006</td>\n",
              "      <td>147.360001</td>\n",
              "      <td>139.899994</td>\n",
              "      <td>140.820007</td>\n",
              "      <td>140.820007</td>\n",
              "      <td>109742900</td>\n",
              "    </tr>\n",
              "    <tr>\n",
              "      <th>2022-05-19</th>\n",
              "      <td>139.880005</td>\n",
              "      <td>141.660004</td>\n",
              "      <td>136.600006</td>\n",
              "      <td>137.350006</td>\n",
              "      <td>137.350006</td>\n",
              "      <td>136095600</td>\n",
              "    </tr>\n",
              "  </tbody>\n",
              "</table>\n",
              "</div>\n",
              "      <button class=\"colab-df-convert\" onclick=\"convertToInteractive('df-b8092251-bf60-4de4-b45c-c1d8b5f5af3e')\"\n",
              "              title=\"Convert this dataframe to an interactive table.\"\n",
              "              style=\"display:none;\">\n",
              "        \n",
              "  <svg xmlns=\"http://www.w3.org/2000/svg\" height=\"24px\"viewBox=\"0 0 24 24\"\n",
              "       width=\"24px\">\n",
              "    <path d=\"M0 0h24v24H0V0z\" fill=\"none\"/>\n",
              "    <path d=\"M18.56 5.44l.94 2.06.94-2.06 2.06-.94-2.06-.94-.94-2.06-.94 2.06-2.06.94zm-11 1L8.5 8.5l.94-2.06 2.06-.94-2.06-.94L8.5 2.5l-.94 2.06-2.06.94zm10 10l.94 2.06.94-2.06 2.06-.94-2.06-.94-.94-2.06-.94 2.06-2.06.94z\"/><path d=\"M17.41 7.96l-1.37-1.37c-.4-.4-.92-.59-1.43-.59-.52 0-1.04.2-1.43.59L10.3 9.45l-7.72 7.72c-.78.78-.78 2.05 0 2.83L4 21.41c.39.39.9.59 1.41.59.51 0 1.02-.2 1.41-.59l7.78-7.78 2.81-2.81c.8-.78.8-2.07 0-2.86zM5.41 20L4 18.59l7.72-7.72 1.47 1.35L5.41 20z\"/>\n",
              "  </svg>\n",
              "      </button>\n",
              "      \n",
              "  <style>\n",
              "    .colab-df-container {\n",
              "      display:flex;\n",
              "      flex-wrap:wrap;\n",
              "      gap: 12px;\n",
              "    }\n",
              "\n",
              "    .colab-df-convert {\n",
              "      background-color: #E8F0FE;\n",
              "      border: none;\n",
              "      border-radius: 50%;\n",
              "      cursor: pointer;\n",
              "      display: none;\n",
              "      fill: #1967D2;\n",
              "      height: 32px;\n",
              "      padding: 0 0 0 0;\n",
              "      width: 32px;\n",
              "    }\n",
              "\n",
              "    .colab-df-convert:hover {\n",
              "      background-color: #E2EBFA;\n",
              "      box-shadow: 0px 1px 2px rgba(60, 64, 67, 0.3), 0px 1px 3px 1px rgba(60, 64, 67, 0.15);\n",
              "      fill: #174EA6;\n",
              "    }\n",
              "\n",
              "    [theme=dark] .colab-df-convert {\n",
              "      background-color: #3B4455;\n",
              "      fill: #D2E3FC;\n",
              "    }\n",
              "\n",
              "    [theme=dark] .colab-df-convert:hover {\n",
              "      background-color: #434B5C;\n",
              "      box-shadow: 0px 1px 3px 1px rgba(0, 0, 0, 0.15);\n",
              "      filter: drop-shadow(0px 1px 2px rgba(0, 0, 0, 0.3));\n",
              "      fill: #FFFFFF;\n",
              "    }\n",
              "  </style>\n",
              "\n",
              "      <script>\n",
              "        const buttonEl =\n",
              "          document.querySelector('#df-b8092251-bf60-4de4-b45c-c1d8b5f5af3e button.colab-df-convert');\n",
              "        buttonEl.style.display =\n",
              "          google.colab.kernel.accessAllowed ? 'block' : 'none';\n",
              "\n",
              "        async function convertToInteractive(key) {\n",
              "          const element = document.querySelector('#df-b8092251-bf60-4de4-b45c-c1d8b5f5af3e');\n",
              "          const dataTable =\n",
              "            await google.colab.kernel.invokeFunction('convertToInteractive',\n",
              "                                                     [key], {});\n",
              "          if (!dataTable) return;\n",
              "\n",
              "          const docLinkHtml = 'Like what you see? Visit the ' +\n",
              "            '<a target=\"_blank\" href=https://colab.research.google.com/notebooks/data_table.ipynb>data table notebook</a>'\n",
              "            + ' to learn more about interactive tables.';\n",
              "          element.innerHTML = '';\n",
              "          dataTable['output_type'] = 'display_data';\n",
              "          await google.colab.output.renderOutput(dataTable, element);\n",
              "          const docLink = document.createElement('div');\n",
              "          docLink.innerHTML = docLinkHtml;\n",
              "          element.appendChild(docLink);\n",
              "        }\n",
              "      </script>\n",
              "    </div>\n",
              "  </div>\n",
              "  "
            ]
          },
          "metadata": {},
          "execution_count": 76
        }
      ],
      "source": [
        "df.tail()"
      ]
    },
    {
      "cell_type": "code",
      "execution_count": 77,
      "metadata": {
        "colab": {
          "base_uri": "https://localhost:8080/"
        },
        "id": "FFU5KCZihQL-",
        "outputId": "e8c542e0-b586-494c-8b07-2afbef9de5b3"
      },
      "outputs": [
        {
          "output_type": "stream",
          "name": "stdout",
          "text": [
            "7313\n",
            "3135\n"
          ]
        }
      ],
      "source": [
        "train_time=int(len(df)*0.7)\n",
        "test_time=len(df)-train_time\n",
        "\n",
        "print(train_time)\n",
        "print(test_time)"
      ]
    },
    {
      "cell_type": "code",
      "execution_count": 78,
      "metadata": {
        "id": "svHeR8QThkIK"
      },
      "outputs": [],
      "source": [
        "x_train=df[:train_time]\n",
        "x_test=df[train_time:]"
      ]
    },
    {
      "cell_type": "code",
      "execution_count": 79,
      "metadata": {
        "colab": {
          "base_uri": "https://localhost:8080/"
        },
        "id": "SusArftv6pak",
        "outputId": "8a569e03-705b-45e7-d304-374ede456ede"
      },
      "outputs": [
        {
          "output_type": "execute_result",
          "data": {
            "text/plain": [
              "(3135, 6)"
            ]
          },
          "metadata": {},
          "execution_count": 79
        }
      ],
      "source": [
        "x_test.shape"
      ]
    },
    {
      "cell_type": "code",
      "execution_count": 80,
      "metadata": {
        "colab": {
          "base_uri": "https://localhost:8080/"
        },
        "id": "7TJr-lcKhp_y",
        "outputId": "0157530c-e37f-4d39-af97-4bfbbbca6cac"
      },
      "outputs": [
        {
          "output_type": "stream",
          "name": "stdout",
          "text": [
            "Shape of train data - (7313, 6)\n",
            "Type of train data - <class 'pandas.core.frame.DataFrame'>\n"
          ]
        }
      ],
      "source": [
        "print(\"Shape of train data - {}\".format(x_train.shape))\n",
        "print(\"Type of train data - {}\".format(type(x_train)))"
      ]
    },
    {
      "cell_type": "code",
      "execution_count": 81,
      "metadata": {
        "id": "exPubvS7ooaq"
      },
      "outputs": [],
      "source": [
        "from sklearn.preprocessing import RobustScaler\n",
        "scaler=RobustScaler()\n",
        "x_scaled=scaler.fit_transform(x_train)"
      ]
    },
    {
      "cell_type": "code",
      "execution_count": 82,
      "metadata": {
        "id": "JNo3l51M2moJ"
      },
      "outputs": [],
      "source": [
        "x=[]\n",
        "y=[]\n",
        "for i in range(7,x_scaled.shape[0]):\n",
        "  x.append(x_scaled[i-7:i])\n",
        "  y.append(x_scaled[i,0])"
      ]
    },
    {
      "cell_type": "code",
      "execution_count": 83,
      "metadata": {
        "id": "yhBSnyfI2z1U"
      },
      "outputs": [],
      "source": [
        "x_window_set,y_window_set=np.array(x),np.array(y)"
      ]
    },
    {
      "cell_type": "code",
      "execution_count": 84,
      "metadata": {
        "colab": {
          "base_uri": "https://localhost:8080/"
        },
        "id": "oKCi9E4_0vQm",
        "outputId": "b5ec44d4-1ebb-482b-d1fc-ab356f280f36"
      },
      "outputs": [
        {
          "output_type": "execute_result",
          "data": {
            "text/plain": [
              "(7306, 7, 6)"
            ]
          },
          "metadata": {},
          "execution_count": 84
        }
      ],
      "source": [
        "x_window_set.shape"
      ]
    },
    {
      "cell_type": "code",
      "source": [
        "y_window_set.shape"
      ],
      "metadata": {
        "colab": {
          "base_uri": "https://localhost:8080/"
        },
        "id": "6vUoCw-oZIyJ",
        "outputId": "16e7a669-5336-4711-df46-b08c8429871b"
      },
      "execution_count": 85,
      "outputs": [
        {
          "output_type": "execute_result",
          "data": {
            "text/plain": [
              "(7306,)"
            ]
          },
          "metadata": {},
          "execution_count": 85
        }
      ]
    },
    {
      "cell_type": "markdown",
      "metadata": {
        "id": "gupPM_k-24IV"
      },
      "source": [
        "Define the model"
      ]
    },
    {
      "cell_type": "code",
      "execution_count": 86,
      "metadata": {
        "id": "AHJ0lNOJ25fj"
      },
      "outputs": [],
      "source": [
        "model = tf.keras.models.Sequential([\n",
        "  tf.keras.layers.Conv1D(filters=6, kernel_size=30,strides=1, padding=\"same\",activation=\"relu\",input_shape=[x_window_set.shape[1], 6]),    #First convolutional layer\n",
        "  tf.keras.layers.Activation('relu'),                                                               #First activation layer\n",
        "  tf.keras.layers.AveragePooling1D(pool_size=2, strides=None, padding=\"valid\"),                     #First pooling layer\n",
        "  tf.keras.layers.Conv1D(filters=4, kernel_size=15,strides=1, padding=\"same\", activation=\"relu\"),   #second convolutional layer\n",
        "  tf.keras.layers.Activation('relu'),                                                               #second activation layer\n",
        "  tf.keras.layers.AveragePooling1D(pool_size=2, strides=None, padding=\"valid\"),                     #second pooling layer\n",
        "  tf.keras.layers.Conv1D(filters=2, kernel_size=7, strides=1, padding=\"same\", activation=\"relu\"),   #third convolutional layer\n",
        "  tf.keras.layers.Activation('relu'),                                                               #third activation layer\n",
        "  tf.keras.layers.AveragePooling1D(pool_size=1, strides=None, padding=\"valid\"),                     #third pooling layer\n",
        "  tf.keras.layers.Flatten(),    #First flatten layer.It is used to flatten the matrix of data.\n",
        "  tf.keras.layers.Dense(32),    #First dense layer.\n",
        "  tf.keras.layers.Dense(1)      #Output layer\n",
        "])"
      ]
    },
    {
      "cell_type": "code",
      "execution_count": 87,
      "metadata": {
        "colab": {
          "base_uri": "https://localhost:8080/"
        },
        "id": "u3ZHb1rb3OlT",
        "outputId": "f541882c-bd59-456b-d9f0-5eeadf6617b3"
      },
      "outputs": [
        {
          "output_type": "stream",
          "name": "stdout",
          "text": [
            "Model: \"sequential_4\"\n",
            "_________________________________________________________________\n",
            " Layer (type)                Output Shape              Param #   \n",
            "=================================================================\n",
            " conv1d_9 (Conv1D)           (None, 7, 6)              1086      \n",
            "                                                                 \n",
            " activation_9 (Activation)   (None, 7, 6)              0         \n",
            "                                                                 \n",
            " average_pooling1d_9 (Averag  (None, 3, 6)             0         \n",
            " ePooling1D)                                                     \n",
            "                                                                 \n",
            " conv1d_10 (Conv1D)          (None, 3, 4)              364       \n",
            "                                                                 \n",
            " activation_10 (Activation)  (None, 3, 4)              0         \n",
            "                                                                 \n",
            " average_pooling1d_10 (Avera  (None, 1, 4)             0         \n",
            " gePooling1D)                                                    \n",
            "                                                                 \n",
            " conv1d_11 (Conv1D)          (None, 1, 2)              58        \n",
            "                                                                 \n",
            " activation_11 (Activation)  (None, 1, 2)              0         \n",
            "                                                                 \n",
            " average_pooling1d_11 (Avera  (None, 1, 2)             0         \n",
            " gePooling1D)                                                    \n",
            "                                                                 \n",
            " flatten_3 (Flatten)         (None, 2)                 0         \n",
            "                                                                 \n",
            " dense_7 (Dense)             (None, 32)                96        \n",
            "                                                                 \n",
            " dense_8 (Dense)             (None, 1)                 33        \n",
            "                                                                 \n",
            "=================================================================\n",
            "Total params: 1,637\n",
            "Trainable params: 1,637\n",
            "Non-trainable params: 0\n",
            "_________________________________________________________________\n"
          ]
        }
      ],
      "source": [
        "model.summary()"
      ]
    },
    {
      "cell_type": "code",
      "execution_count": 88,
      "metadata": {
        "id": "JYTBtNSf3TNb"
      },
      "outputs": [],
      "source": [
        "model.compile(loss='mse',#loss used is mean squared error.\n",
        "              optimizer='adam',#Optimizer used is Adam,since it smooths the oscillation of gradient and can self-tune the learning rate\n",
        "              metrics=[\"mae\"])#metric is mean absolute error."
      ]
    },
    {
      "cell_type": "code",
      "execution_count": 90,
      "metadata": {
        "colab": {
          "base_uri": "https://localhost:8080/"
        },
        "id": "egq6O6Vn7bdi",
        "outputId": "fe816ee3-fc13-43fb-fec7-ff97624c8f05"
      },
      "outputs": [
        {
          "output_type": "stream",
          "name": "stdout",
          "text": [
            "Epoch 1/100\n",
            "8/8 [==============================] - 0s 27ms/step - loss: 0.0647 - mae: 0.1073\n",
            "Epoch 2/100\n",
            "8/8 [==============================] - 0s 29ms/step - loss: 0.0434 - mae: 0.0903\n",
            "Epoch 3/100\n",
            "8/8 [==============================] - 0s 28ms/step - loss: 0.0346 - mae: 0.0822\n",
            "Epoch 4/100\n",
            "8/8 [==============================] - 0s 25ms/step - loss: 0.0325 - mae: 0.0797\n",
            "Epoch 5/100\n",
            "8/8 [==============================] - 0s 31ms/step - loss: 0.0305 - mae: 0.0776\n",
            "Epoch 6/100\n",
            "8/8 [==============================] - 0s 30ms/step - loss: 0.0294 - mae: 0.0765\n",
            "Epoch 7/100\n",
            "8/8 [==============================] - 0s 32ms/step - loss: 0.0289 - mae: 0.0756\n",
            "Epoch 8/100\n",
            "8/8 [==============================] - 0s 29ms/step - loss: 0.0287 - mae: 0.0752\n",
            "Epoch 9/100\n",
            "8/8 [==============================] - 0s 28ms/step - loss: 0.0285 - mae: 0.0748\n",
            "Epoch 10/100\n",
            "8/8 [==============================] - 0s 30ms/step - loss: 0.0287 - mae: 0.0754\n",
            "Epoch 11/100\n",
            "8/8 [==============================] - 0s 29ms/step - loss: 0.0288 - mae: 0.0750\n",
            "Epoch 12/100\n",
            "8/8 [==============================] - 0s 24ms/step - loss: 0.0283 - mae: 0.0748\n",
            "Epoch 13/100\n",
            "8/8 [==============================] - 0s 26ms/step - loss: 0.0296 - mae: 0.0755\n",
            "Epoch 14/100\n",
            "8/8 [==============================] - 0s 29ms/step - loss: 0.0281 - mae: 0.0741\n",
            "Epoch 15/100\n",
            "8/8 [==============================] - 0s 28ms/step - loss: 0.0280 - mae: 0.0741\n",
            "Epoch 16/100\n",
            "8/8 [==============================] - 0s 28ms/step - loss: 0.0279 - mae: 0.0738\n",
            "Epoch 17/100\n",
            "8/8 [==============================] - 0s 24ms/step - loss: 0.0279 - mae: 0.0737\n",
            "Epoch 18/100\n",
            "8/8 [==============================] - 0s 23ms/step - loss: 0.0277 - mae: 0.0738\n",
            "Epoch 19/100\n",
            "8/8 [==============================] - 0s 17ms/step - loss: 0.0276 - mae: 0.0735\n",
            "Epoch 20/100\n",
            "8/8 [==============================] - 0s 18ms/step - loss: 0.0275 - mae: 0.0730\n",
            "Epoch 21/100\n",
            "8/8 [==============================] - 0s 18ms/step - loss: 0.0274 - mae: 0.0732\n",
            "Epoch 22/100\n",
            "8/8 [==============================] - 0s 18ms/step - loss: 0.0272 - mae: 0.0727\n",
            "Epoch 23/100\n",
            "8/8 [==============================] - 0s 16ms/step - loss: 0.0279 - mae: 0.0735\n",
            "Epoch 24/100\n",
            "8/8 [==============================] - 0s 16ms/step - loss: 0.0271 - mae: 0.0724\n",
            "Epoch 25/100\n",
            "8/8 [==============================] - 0s 16ms/step - loss: 0.0271 - mae: 0.0725\n",
            "Epoch 26/100\n",
            "8/8 [==============================] - 0s 16ms/step - loss: 0.0270 - mae: 0.0724\n",
            "Epoch 27/100\n",
            "8/8 [==============================] - 0s 19ms/step - loss: 0.0268 - mae: 0.0719\n",
            "Epoch 28/100\n",
            "8/8 [==============================] - 0s 17ms/step - loss: 0.0268 - mae: 0.0722\n",
            "Epoch 29/100\n",
            "8/8 [==============================] - 0s 16ms/step - loss: 0.0272 - mae: 0.0720\n",
            "Epoch 30/100\n",
            "8/8 [==============================] - 0s 16ms/step - loss: 0.0269 - mae: 0.0718\n",
            "Epoch 31/100\n",
            "8/8 [==============================] - 0s 17ms/step - loss: 0.0267 - mae: 0.0718\n",
            "Epoch 32/100\n",
            "8/8 [==============================] - 0s 17ms/step - loss: 0.0265 - mae: 0.0712\n",
            "Epoch 33/100\n",
            "8/8 [==============================] - 0s 17ms/step - loss: 0.0262 - mae: 0.0710\n",
            "Epoch 34/100\n",
            "8/8 [==============================] - 0s 18ms/step - loss: 0.0261 - mae: 0.0707\n",
            "Epoch 35/100\n",
            "8/8 [==============================] - 0s 16ms/step - loss: 0.0270 - mae: 0.0718\n",
            "Epoch 36/100\n",
            "8/8 [==============================] - 0s 17ms/step - loss: 0.0264 - mae: 0.0710\n",
            "Epoch 37/100\n",
            "8/8 [==============================] - 0s 17ms/step - loss: 0.0262 - mae: 0.0704\n",
            "Epoch 38/100\n",
            "8/8 [==============================] - 0s 16ms/step - loss: 0.0260 - mae: 0.0705\n",
            "Epoch 39/100\n",
            "8/8 [==============================] - 0s 18ms/step - loss: 0.0263 - mae: 0.0703\n",
            "Epoch 40/100\n",
            "8/8 [==============================] - 0s 17ms/step - loss: 0.0258 - mae: 0.0698\n",
            "Epoch 41/100\n",
            "8/8 [==============================] - 0s 19ms/step - loss: 0.0263 - mae: 0.0710\n",
            "Epoch 42/100\n",
            "8/8 [==============================] - 0s 17ms/step - loss: 0.0259 - mae: 0.0697\n",
            "Epoch 43/100\n",
            "8/8 [==============================] - 0s 17ms/step - loss: 0.0259 - mae: 0.0702\n",
            "Epoch 44/100\n",
            "8/8 [==============================] - 0s 17ms/step - loss: 0.0261 - mae: 0.0700\n",
            "Epoch 45/100\n",
            "8/8 [==============================] - 0s 17ms/step - loss: 0.0258 - mae: 0.0697\n",
            "Epoch 46/100\n",
            "8/8 [==============================] - 0s 17ms/step - loss: 0.0254 - mae: 0.0695\n",
            "Epoch 47/100\n",
            "8/8 [==============================] - 0s 16ms/step - loss: 0.0258 - mae: 0.0695\n",
            "Epoch 48/100\n",
            "8/8 [==============================] - 0s 18ms/step - loss: 0.0265 - mae: 0.0706\n",
            "Epoch 49/100\n",
            "8/8 [==============================] - 0s 18ms/step - loss: 0.0274 - mae: 0.0716\n",
            "Epoch 50/100\n",
            "8/8 [==============================] - 0s 15ms/step - loss: 0.0256 - mae: 0.0686\n",
            "Epoch 51/100\n",
            "8/8 [==============================] - 0s 15ms/step - loss: 0.0251 - mae: 0.0684\n",
            "Epoch 52/100\n",
            "8/8 [==============================] - 0s 17ms/step - loss: 0.0250 - mae: 0.0687\n",
            "Epoch 53/100\n",
            "8/8 [==============================] - 0s 16ms/step - loss: 0.0252 - mae: 0.0684\n",
            "Epoch 54/100\n",
            "8/8 [==============================] - 0s 16ms/step - loss: 0.0246 - mae: 0.0678\n",
            "Epoch 55/100\n",
            "8/8 [==============================] - 0s 18ms/step - loss: 0.0244 - mae: 0.0675\n",
            "Epoch 56/100\n",
            "8/8 [==============================] - 0s 17ms/step - loss: 0.0243 - mae: 0.0676\n",
            "Epoch 57/100\n",
            "8/8 [==============================] - 0s 18ms/step - loss: 0.0243 - mae: 0.0676\n",
            "Epoch 58/100\n",
            "8/8 [==============================] - 0s 15ms/step - loss: 0.0242 - mae: 0.0673\n",
            "Epoch 59/100\n",
            "8/8 [==============================] - 0s 17ms/step - loss: 0.0242 - mae: 0.0671\n",
            "Epoch 60/100\n",
            "8/8 [==============================] - 0s 15ms/step - loss: 0.0241 - mae: 0.0672\n",
            "Epoch 61/100\n",
            "8/8 [==============================] - 0s 16ms/step - loss: 0.0239 - mae: 0.0668\n",
            "Epoch 62/100\n",
            "8/8 [==============================] - 0s 18ms/step - loss: 0.0238 - mae: 0.0665\n",
            "Epoch 63/100\n",
            "8/8 [==============================] - 0s 17ms/step - loss: 0.0240 - mae: 0.0665\n",
            "Epoch 64/100\n",
            "8/8 [==============================] - 0s 15ms/step - loss: 0.0236 - mae: 0.0663\n",
            "Epoch 65/100\n",
            "8/8 [==============================] - 0s 17ms/step - loss: 0.0239 - mae: 0.0665\n",
            "Epoch 66/100\n",
            "8/8 [==============================] - 0s 17ms/step - loss: 0.0237 - mae: 0.0663\n",
            "Epoch 67/100\n",
            "8/8 [==============================] - 0s 17ms/step - loss: 0.0235 - mae: 0.0659\n",
            "Epoch 68/100\n",
            "8/8 [==============================] - 0s 17ms/step - loss: 0.0233 - mae: 0.0655\n",
            "Epoch 69/100\n",
            "8/8 [==============================] - 0s 18ms/step - loss: 0.0234 - mae: 0.0655\n",
            "Epoch 70/100\n",
            "8/8 [==============================] - 0s 17ms/step - loss: 0.0236 - mae: 0.0661\n",
            "Epoch 71/100\n",
            "8/8 [==============================] - 0s 16ms/step - loss: 0.0235 - mae: 0.0658\n",
            "Epoch 72/100\n",
            "8/8 [==============================] - 0s 15ms/step - loss: 0.0234 - mae: 0.0655\n",
            "Epoch 73/100\n",
            "8/8 [==============================] - 0s 17ms/step - loss: 0.0231 - mae: 0.0652\n",
            "Epoch 74/100\n",
            "8/8 [==============================] - 0s 16ms/step - loss: 0.0229 - mae: 0.0652\n",
            "Epoch 75/100\n",
            "8/8 [==============================] - 0s 15ms/step - loss: 0.0235 - mae: 0.0654\n",
            "Epoch 76/100\n",
            "8/8 [==============================] - 0s 19ms/step - loss: 0.0229 - mae: 0.0648\n",
            "Epoch 77/100\n",
            "8/8 [==============================] - 0s 17ms/step - loss: 0.0235 - mae: 0.0655\n",
            "Epoch 78/100\n",
            "8/8 [==============================] - 0s 16ms/step - loss: 0.0238 - mae: 0.0655\n",
            "Epoch 79/100\n",
            "8/8 [==============================] - 0s 17ms/step - loss: 0.0233 - mae: 0.0656\n",
            "Epoch 80/100\n",
            "8/8 [==============================] - 0s 16ms/step - loss: 0.0234 - mae: 0.0658\n",
            "Epoch 81/100\n",
            "8/8 [==============================] - 0s 17ms/step - loss: 0.0230 - mae: 0.0646\n",
            "Epoch 82/100\n",
            "8/8 [==============================] - 0s 16ms/step - loss: 0.0243 - mae: 0.0666\n",
            "Epoch 83/100\n",
            "8/8 [==============================] - 0s 18ms/step - loss: 0.0233 - mae: 0.0653\n",
            "Epoch 84/100\n",
            "8/8 [==============================] - 0s 18ms/step - loss: 0.0232 - mae: 0.0650\n",
            "Epoch 85/100\n",
            "8/8 [==============================] - 0s 16ms/step - loss: 0.0224 - mae: 0.0639\n",
            "Epoch 86/100\n",
            "8/8 [==============================] - 0s 18ms/step - loss: 0.0220 - mae: 0.0634\n",
            "Epoch 87/100\n",
            "8/8 [==============================] - 0s 16ms/step - loss: 0.0220 - mae: 0.0635\n",
            "Epoch 88/100\n",
            "8/8 [==============================] - 0s 17ms/step - loss: 0.0223 - mae: 0.0640\n",
            "Epoch 89/100\n",
            "8/8 [==============================] - 0s 18ms/step - loss: 0.0218 - mae: 0.0630\n",
            "Epoch 90/100\n",
            "8/8 [==============================] - 0s 18ms/step - loss: 0.0217 - mae: 0.0630\n",
            "Epoch 91/100\n",
            "8/8 [==============================] - 0s 17ms/step - loss: 0.0216 - mae: 0.0629\n",
            "Epoch 92/100\n",
            "8/8 [==============================] - 0s 17ms/step - loss: 0.0218 - mae: 0.0630\n",
            "Epoch 93/100\n",
            "8/8 [==============================] - 0s 17ms/step - loss: 0.0216 - mae: 0.0628\n",
            "Epoch 94/100\n",
            "8/8 [==============================] - 0s 17ms/step - loss: 0.0217 - mae: 0.0631\n",
            "Epoch 95/100\n",
            "8/8 [==============================] - 0s 17ms/step - loss: 0.0220 - mae: 0.0630\n",
            "Epoch 96/100\n",
            "8/8 [==============================] - 0s 18ms/step - loss: 0.0222 - mae: 0.0640\n",
            "Epoch 97/100\n",
            "8/8 [==============================] - 0s 18ms/step - loss: 0.0229 - mae: 0.0643\n",
            "Epoch 98/100\n",
            "8/8 [==============================] - 0s 17ms/step - loss: 0.0221 - mae: 0.0632\n",
            "Epoch 99/100\n",
            "8/8 [==============================] - 0s 17ms/step - loss: 0.0216 - mae: 0.0631\n",
            "Epoch 100/100\n",
            "8/8 [==============================] - 0s 17ms/step - loss: 0.0218 - mae: 0.0630\n"
          ]
        },
        {
          "output_type": "execute_result",
          "data": {
            "text/plain": [
              "<keras.callbacks.History at 0x7f4e08955910>"
            ]
          },
          "metadata": {},
          "execution_count": 90
        }
      ],
      "source": [
        "model.fit(x_window_set,y_window_set, epochs=100,batch_size=1024)"
      ]
    },
    {
      "cell_type": "code",
      "execution_count": 92,
      "metadata": {
        "id": "n49MsPiA94Fd"
      },
      "outputs": [],
      "source": [
        "x_real_test=df[train_time-7:] \n",
        "x_a_real_test=np.array(x_real_test)"
      ]
    },
    {
      "cell_type": "code",
      "execution_count": 94,
      "metadata": {
        "id": "ytZdOmWP_X1p",
        "colab": {
          "base_uri": "https://localhost:8080/"
        },
        "outputId": "11f661f1-47d0-4555-ac3f-10dd1199c388"
      },
      "outputs": [
        {
          "output_type": "stream",
          "name": "stderr",
          "text": [
            "/usr/local/lib/python3.7/dist-packages/sklearn/base.py:451: UserWarning: X does not have valid feature names, but RobustScaler was fitted with feature names\n",
            "  \"X does not have valid feature names, but\"\n"
          ]
        }
      ],
      "source": [
        "x_t_scaled=scaler.transform(x_a_real_test)"
      ]
    },
    {
      "cell_type": "code",
      "execution_count": 95,
      "metadata": {
        "id": "3G7rIf-8_hxz"
      },
      "outputs": [],
      "source": [
        "x_t=[]\n",
        "y_t=[]"
      ]
    },
    {
      "cell_type": "code",
      "execution_count": 96,
      "metadata": {
        "id": "wPz4ognp_mqd"
      },
      "outputs": [],
      "source": [
        "for i in range(7,x_t_scaled.shape[0]):\n",
        "  x_t.append(x_t_scaled[i-7:i])\n",
        "  y_t.append(x_t_scaled[i,0])"
      ]
    },
    {
      "cell_type": "code",
      "execution_count": 97,
      "metadata": {
        "id": "PPlIpHEW_pae"
      },
      "outputs": [],
      "source": [
        "x_test_window_set,y_test_window_set=np.array(x_t),np.array(y_t)"
      ]
    },
    {
      "cell_type": "code",
      "execution_count": 98,
      "metadata": {
        "id": "BqZPWO3F_s9E"
      },
      "outputs": [],
      "source": [
        "predicted_value=model.predict(x_test_window_set)"
      ]
    },
    {
      "cell_type": "markdown",
      "metadata": {
        "id": "xu7greqc_vma"
      },
      "source": [
        "Mean Absolute percentage error\n",
        "\n"
      ]
    },
    {
      "cell_type": "code",
      "execution_count": 99,
      "metadata": {
        "colab": {
          "base_uri": "https://localhost:8080/"
        },
        "id": "sfPU55Wr_wGQ",
        "outputId": "50e1acf1-6759-4b68-92be-d8b476a0370d"
      },
      "outputs": [
        {
          "output_type": "execute_result",
          "data": {
            "text/plain": [
              "2.3693166"
            ]
          },
          "metadata": {},
          "execution_count": 99
        }
      ],
      "source": [
        "m = tf.keras.metrics.MeanAbsolutePercentageError()#initialize the MAPE class.\n",
        "m.update_state(y_test_window_set,predicted_value)#calculate MAPE on Actual testing values and forecasted values\n",
        "m.result().numpy()"
      ]
    },
    {
      "cell_type": "code",
      "execution_count": 100,
      "metadata": {
        "id": "Ca9CkPYi_1ki"
      },
      "outputs": [],
      "source": [
        "time=np.arange(1,3136+7)"
      ]
    },
    {
      "cell_type": "code",
      "execution_count": 101,
      "metadata": {
        "colab": {
          "base_uri": "https://localhost:8080/",
          "height": 714
        },
        "id": "xzqZ_ccME3mh",
        "outputId": "2979841e-b7f2-4f68-b1e4-554687451c2e"
      },
      "outputs": [
        {
          "output_type": "display_data",
          "data": {
            "text/plain": [
              "<Figure size 2160x864 with 1 Axes>"
            ],
            "image/png": "[encoded data removed]"
          },
          "metadata": {
            "needs_background": "light"
          }
        }
      ],
      "source": [
        "plt.figure(figsize=(30,12))#Set the figure size\n",
        "plt.plot(time[7:],y_test_window_set,color='blue',label=\"true values\")#Plot the true testing value in blue\n",
        "plt.plot(time[7:],predicted_value,color='red',label='predicted value')#Plot the predicted value in red\n",
        "plt.xlabel('Time in Days')#set label of x as Time\n",
        "plt.ylabel('Stock Price')#set label of y as Value\n",
        "plt.legend()#show the labels\n",
        "plt.show()#show the plot"
      ]
    },
    {
      "cell_type": "code",
      "execution_count": 102,
      "metadata": {
        "colab": {
          "base_uri": "https://localhost:8080/"
        },
        "id": "pKReFEXoWsYb",
        "outputId": "02fc692c-4425-4bc0-921f-5cfd8d24108d"
      },
      "outputs": [
        {
          "output_type": "stream",
          "name": "stdout",
          "text": [
            "Epoch 1/200\n",
            "58/58 [==============================] - 3s 15ms/step - loss: 2.4026\n",
            "Epoch 2/200\n",
            "58/58 [==============================] - 1s 15ms/step - loss: 0.0415\n",
            "Epoch 3/200\n",
            "58/58 [==============================] - 1s 16ms/step - loss: 0.0250\n",
            "Epoch 4/200\n",
            "58/58 [==============================] - 1s 15ms/step - loss: 0.0240\n",
            "Epoch 5/200\n",
            "58/58 [==============================] - 1s 15ms/step - loss: 0.0198\n",
            "Epoch 6/200\n",
            "58/58 [==============================] - 1s 15ms/step - loss: 0.0213\n",
            "Epoch 7/200\n",
            "58/58 [==============================] - 1s 15ms/step - loss: 0.0167\n",
            "Epoch 8/200\n",
            "58/58 [==============================] - 1s 15ms/step - loss: 0.0235\n",
            "Epoch 9/200\n",
            "58/58 [==============================] - 1s 16ms/step - loss: 0.0164\n",
            "Epoch 10/200\n",
            "58/58 [==============================] - 1s 15ms/step - loss: 0.0157\n",
            "Epoch 11/200\n",
            "58/58 [==============================] - 1s 15ms/step - loss: 0.0152\n",
            "Epoch 12/200\n",
            "58/58 [==============================] - 1s 15ms/step - loss: 0.0186\n",
            "Epoch 13/200\n",
            "58/58 [==============================] - 1s 15ms/step - loss: 0.0160\n",
            "Epoch 14/200\n",
            "58/58 [==============================] - 1s 16ms/step - loss: 0.0150\n",
            "Epoch 15/200\n",
            "58/58 [==============================] - 1s 15ms/step - loss: 0.0161\n",
            "Epoch 16/200\n",
            "58/58 [==============================] - 1s 15ms/step - loss: 0.0151\n",
            "Epoch 17/200\n",
            "58/58 [==============================] - 1s 15ms/step - loss: 0.0148\n",
            "Epoch 18/200\n",
            "58/58 [==============================] - 1s 15ms/step - loss: 0.0243\n",
            "Epoch 19/200\n",
            "58/58 [==============================] - 1s 15ms/step - loss: 0.0138\n",
            "Epoch 20/200\n",
            "58/58 [==============================] - 1s 15ms/step - loss: 0.0127\n",
            "Epoch 21/200\n",
            "58/58 [==============================] - 1s 15ms/step - loss: 0.0135\n",
            "Epoch 22/200\n",
            "58/58 [==============================] - 1s 15ms/step - loss: 0.0141\n",
            "Epoch 23/200\n",
            "58/58 [==============================] - 1s 15ms/step - loss: 0.0138\n",
            "Epoch 24/200\n",
            "58/58 [==============================] - 1s 15ms/step - loss: 0.0138\n",
            "Epoch 25/200\n",
            "58/58 [==============================] - 1s 15ms/step - loss: 0.0142\n",
            "Epoch 26/200\n",
            "58/58 [==============================] - 1s 15ms/step - loss: 0.0124\n",
            "Epoch 27/200\n",
            "58/58 [==============================] - 1s 15ms/step - loss: 0.0109\n",
            "Epoch 28/200\n",
            "58/58 [==============================] - 1s 15ms/step - loss: 0.0102\n",
            "Epoch 29/200\n",
            "58/58 [==============================] - 1s 15ms/step - loss: 0.0227\n",
            "Epoch 30/200\n",
            "58/58 [==============================] - 1s 15ms/step - loss: 0.0116\n",
            "Epoch 31/200\n",
            "58/58 [==============================] - 1s 15ms/step - loss: 0.0119\n",
            "Epoch 32/200\n",
            "58/58 [==============================] - 1s 15ms/step - loss: 0.0118\n",
            "Epoch 33/200\n",
            "58/58 [==============================] - 1s 15ms/step - loss: 0.0155\n",
            "Epoch 34/200\n",
            "58/58 [==============================] - 1s 15ms/step - loss: 0.0099\n",
            "Epoch 35/200\n",
            "58/58 [==============================] - 1s 15ms/step - loss: 0.0107\n",
            "Epoch 36/200\n",
            "58/58 [==============================] - 1s 15ms/step - loss: 0.0105\n",
            "Epoch 37/200\n",
            "58/58 [==============================] - 1s 15ms/step - loss: 0.0101\n",
            "Epoch 38/200\n",
            "58/58 [==============================] - 1s 15ms/step - loss: 0.0108\n",
            "Epoch 39/200\n",
            "58/58 [==============================] - 1s 15ms/step - loss: 0.0111\n",
            "Epoch 40/200\n",
            "58/58 [==============================] - 1s 15ms/step - loss: 0.0113\n",
            "Epoch 41/200\n",
            "58/58 [==============================] - 1s 16ms/step - loss: 0.0106\n",
            "Epoch 42/200\n",
            "58/58 [==============================] - 1s 16ms/step - loss: 0.0125\n",
            "Epoch 43/200\n",
            "58/58 [==============================] - 1s 16ms/step - loss: 0.0103\n",
            "Epoch 44/200\n",
            "58/58 [==============================] - 1s 15ms/step - loss: 0.0101\n",
            "Epoch 45/200\n",
            "58/58 [==============================] - 1s 16ms/step - loss: 0.0124\n",
            "Epoch 46/200\n",
            "58/58 [==============================] - 1s 23ms/step - loss: 0.0134\n",
            "Epoch 47/200\n",
            "58/58 [==============================] - 1s 25ms/step - loss: 0.0217\n",
            "Epoch 48/200\n",
            "58/58 [==============================] - 1s 15ms/step - loss: 0.0112\n",
            "Epoch 49/200\n",
            "58/58 [==============================] - 1s 15ms/step - loss: 0.0129\n",
            "Epoch 50/200\n",
            "58/58 [==============================] - 1s 16ms/step - loss: 0.0101\n",
            "Epoch 51/200\n",
            "58/58 [==============================] - 1s 15ms/step - loss: 0.0085\n",
            "Epoch 52/200\n",
            "58/58 [==============================] - 1s 15ms/step - loss: 0.0094\n",
            "Epoch 53/200\n",
            "58/58 [==============================] - 1s 16ms/step - loss: 0.0111\n",
            "Epoch 54/200\n",
            "58/58 [==============================] - 1s 15ms/step - loss: 0.0150\n",
            "Epoch 55/200\n",
            "58/58 [==============================] - 1s 15ms/step - loss: 0.0087\n",
            "Epoch 56/200\n",
            "58/58 [==============================] - 1s 15ms/step - loss: 0.0099\n",
            "Epoch 57/200\n",
            "58/58 [==============================] - 1s 16ms/step - loss: 0.0108\n",
            "Epoch 58/200\n",
            "58/58 [==============================] - 1s 16ms/step - loss: 0.0129\n",
            "Epoch 59/200\n",
            "58/58 [==============================] - 1s 15ms/step - loss: 0.0111\n",
            "Epoch 60/200\n",
            "58/58 [==============================] - 1s 15ms/step - loss: 0.0090\n",
            "Epoch 61/200\n",
            "58/58 [==============================] - 1s 16ms/step - loss: 0.0109\n",
            "Epoch 62/200\n",
            "58/58 [==============================] - 1s 16ms/step - loss: 0.0129\n",
            "Epoch 63/200\n",
            "58/58 [==============================] - 1s 16ms/step - loss: 0.0095\n",
            "Epoch 64/200\n",
            "58/58 [==============================] - 1s 15ms/step - loss: 0.0091\n",
            "Epoch 65/200\n",
            "58/58 [==============================] - 1s 16ms/step - loss: 0.0135\n",
            "Epoch 66/200\n",
            "58/58 [==============================] - 1s 15ms/step - loss: 0.0136\n",
            "Epoch 67/200\n",
            "58/58 [==============================] - 1s 15ms/step - loss: 0.0113\n",
            "Epoch 68/200\n",
            "58/58 [==============================] - 1s 16ms/step - loss: 0.0129\n",
            "Epoch 69/200\n",
            "58/58 [==============================] - 1s 16ms/step - loss: 0.0094\n",
            "Epoch 70/200\n",
            "58/58 [==============================] - 1s 15ms/step - loss: 0.0113\n",
            "Epoch 71/200\n",
            "58/58 [==============================] - 1s 15ms/step - loss: 0.0115\n",
            "Epoch 72/200\n",
            "58/58 [==============================] - 1s 15ms/step - loss: 0.0104\n",
            "Epoch 73/200\n",
            "58/58 [==============================] - 1s 15ms/step - loss: 0.0105\n",
            "Epoch 74/200\n",
            "58/58 [==============================] - 1s 16ms/step - loss: 0.0098\n",
            "Epoch 75/200\n",
            "58/58 [==============================] - 1s 16ms/step - loss: 0.0125\n",
            "Epoch 76/200\n",
            "58/58 [==============================] - 2s 28ms/step - loss: 0.0093\n",
            "Epoch 77/200\n",
            "58/58 [==============================] - 2s 27ms/step - loss: 0.0097\n",
            "Epoch 78/200\n",
            "58/58 [==============================] - 1s 16ms/step - loss: 0.0093\n",
            "Epoch 79/200\n",
            "58/58 [==============================] - 1s 16ms/step - loss: 0.0119\n",
            "Epoch 80/200\n",
            "58/58 [==============================] - 1s 16ms/step - loss: 0.0197\n",
            "Epoch 81/200\n",
            "58/58 [==============================] - 1s 16ms/step - loss: 0.0110\n",
            "Epoch 82/200\n",
            "58/58 [==============================] - 1s 16ms/step - loss: 0.0095\n",
            "Epoch 83/200\n",
            "58/58 [==============================] - 1s 16ms/step - loss: 0.0087\n",
            "Epoch 84/200\n",
            "58/58 [==============================] - 1s 15ms/step - loss: 0.0099\n",
            "Epoch 85/200\n",
            "58/58 [==============================] - 1s 15ms/step - loss: 0.0104\n",
            "Epoch 86/200\n",
            "58/58 [==============================] - 1s 16ms/step - loss: 0.0133\n",
            "Epoch 87/200\n",
            "58/58 [==============================] - 1s 16ms/step - loss: 0.0093\n",
            "Epoch 88/200\n",
            "58/58 [==============================] - 1s 16ms/step - loss: 0.0114\n",
            "Epoch 89/200\n",
            "58/58 [==============================] - 1s 16ms/step - loss: 0.0122\n",
            "Epoch 90/200\n",
            "58/58 [==============================] - 1s 16ms/step - loss: 0.0089\n",
            "Epoch 91/200\n",
            "58/58 [==============================] - 1s 15ms/step - loss: 0.0117\n",
            "Epoch 92/200\n",
            "58/58 [==============================] - 1s 15ms/step - loss: 0.0102\n",
            "Epoch 93/200\n",
            "58/58 [==============================] - 1s 16ms/step - loss: 0.0115\n",
            "Epoch 94/200\n",
            "58/58 [==============================] - 1s 16ms/step - loss: 0.0088\n",
            "Epoch 95/200\n",
            "58/58 [==============================] - 1s 16ms/step - loss: 0.0082\n",
            "Epoch 96/200\n",
            "58/58 [==============================] - 1s 15ms/step - loss: 0.0092\n",
            "Epoch 97/200\n",
            "58/58 [==============================] - 1s 15ms/step - loss: 0.0109\n",
            "Epoch 98/200\n",
            "58/58 [==============================] - 1s 16ms/step - loss: 0.0112\n",
            "Epoch 99/200\n",
            "58/58 [==============================] - 1s 16ms/step - loss: 0.0097\n",
            "Epoch 100/200\n",
            "58/58 [==============================] - 1s 16ms/step - loss: 0.0109\n",
            "Epoch 101/200\n",
            "58/58 [==============================] - 1s 15ms/step - loss: 0.0113\n",
            "Epoch 102/200\n",
            "58/58 [==============================] - 1s 15ms/step - loss: 0.0091\n",
            "Epoch 103/200\n",
            "58/58 [==============================] - 1s 16ms/step - loss: 0.0100\n",
            "Epoch 104/200\n",
            "58/58 [==============================] - 1s 15ms/step - loss: 0.0097\n",
            "Epoch 105/200\n",
            "58/58 [==============================] - 1s 15ms/step - loss: 0.0096\n",
            "Epoch 106/200\n",
            "58/58 [==============================] - 1s 15ms/step - loss: 0.0104\n",
            "Epoch 107/200\n",
            "58/58 [==============================] - 1s 15ms/step - loss: 0.0090\n",
            "Epoch 108/200\n",
            "58/58 [==============================] - 1s 15ms/step - loss: 0.0142\n",
            "Epoch 109/200\n",
            "58/58 [==============================] - 1s 16ms/step - loss: 0.0099\n",
            "Epoch 110/200\n",
            "58/58 [==============================] - 1s 15ms/step - loss: 0.0081\n",
            "Epoch 111/200\n",
            "58/58 [==============================] - 1s 15ms/step - loss: 0.0150\n",
            "Epoch 112/200\n",
            "58/58 [==============================] - 1s 15ms/step - loss: 0.0140\n",
            "Epoch 113/200\n",
            "58/58 [==============================] - 1s 15ms/step - loss: 0.0087\n",
            "Epoch 114/200\n",
            "58/58 [==============================] - 1s 16ms/step - loss: 0.0091\n",
            "Epoch 115/200\n",
            "58/58 [==============================] - 1s 15ms/step - loss: 0.0084\n",
            "Epoch 116/200\n",
            "58/58 [==============================] - 1s 15ms/step - loss: 0.0085\n",
            "Epoch 117/200\n",
            "58/58 [==============================] - 1s 15ms/step - loss: 0.0102\n",
            "Epoch 118/200\n",
            "58/58 [==============================] - 1s 15ms/step - loss: 0.0125\n",
            "Epoch 119/200\n",
            "58/58 [==============================] - 1s 15ms/step - loss: 0.0256\n",
            "Epoch 120/200\n",
            "58/58 [==============================] - 1s 16ms/step - loss: 0.0100\n",
            "Epoch 121/200\n",
            "58/58 [==============================] - 1s 16ms/step - loss: 0.0122\n",
            "Epoch 122/200\n",
            "58/58 [==============================] - 1s 16ms/step - loss: 0.0086\n",
            "Epoch 123/200\n",
            "58/58 [==============================] - 1s 16ms/step - loss: 0.0090\n",
            "Epoch 124/200\n",
            "58/58 [==============================] - 1s 16ms/step - loss: 0.0101\n",
            "Epoch 125/200\n",
            "58/58 [==============================] - 1s 17ms/step - loss: 0.0125\n",
            "Epoch 126/200\n",
            "58/58 [==============================] - 1s 17ms/step - loss: 0.0084\n",
            "Epoch 127/200\n",
            "58/58 [==============================] - 1s 17ms/step - loss: 0.0089\n",
            "Epoch 128/200\n",
            "58/58 [==============================] - 1s 17ms/step - loss: 0.0098\n",
            "Epoch 129/200\n",
            "58/58 [==============================] - 1s 16ms/step - loss: 0.0086\n",
            "Epoch 130/200\n",
            "58/58 [==============================] - 1s 16ms/step - loss: 0.0077\n",
            "Epoch 131/200\n",
            "58/58 [==============================] - 1s 16ms/step - loss: 0.0112\n",
            "Epoch 132/200\n",
            "58/58 [==============================] - 1s 16ms/step - loss: 0.0097\n",
            "Epoch 133/200\n",
            "58/58 [==============================] - 1s 17ms/step - loss: 0.0104\n",
            "Epoch 134/200\n",
            "58/58 [==============================] - 1s 16ms/step - loss: 0.0084\n",
            "Epoch 135/200\n",
            "58/58 [==============================] - 1s 17ms/step - loss: 0.0084\n",
            "Epoch 136/200\n",
            "58/58 [==============================] - 1s 18ms/step - loss: 0.0102\n",
            "Epoch 137/200\n",
            "58/58 [==============================] - 1s 18ms/step - loss: 0.0081\n",
            "Epoch 138/200\n",
            "58/58 [==============================] - 1s 17ms/step - loss: 0.0090\n",
            "Epoch 139/200\n",
            "58/58 [==============================] - 1s 19ms/step - loss: 0.0103\n",
            "Epoch 140/200\n",
            "58/58 [==============================] - 1s 19ms/step - loss: 0.0089\n",
            "Epoch 141/200\n",
            "58/58 [==============================] - 1s 18ms/step - loss: 0.0086\n",
            "Epoch 142/200\n",
            "58/58 [==============================] - 1s 18ms/step - loss: 0.0085\n",
            "Epoch 143/200\n",
            "58/58 [==============================] - 1s 17ms/step - loss: 0.0087\n",
            "Epoch 144/200\n",
            "58/58 [==============================] - 1s 17ms/step - loss: 0.0084\n",
            "Epoch 145/200\n",
            "58/58 [==============================] - 1s 17ms/step - loss: 0.0092\n",
            "Epoch 146/200\n",
            "58/58 [==============================] - 1s 18ms/step - loss: 0.0084\n",
            "Epoch 147/200\n",
            "58/58 [==============================] - 1s 17ms/step - loss: 0.0112\n",
            "Epoch 148/200\n",
            "58/58 [==============================] - 1s 17ms/step - loss: 0.0098\n",
            "Epoch 149/200\n",
            "58/58 [==============================] - 1s 16ms/step - loss: 0.0101\n",
            "Epoch 150/200\n",
            "58/58 [==============================] - 1s 16ms/step - loss: 0.0101\n",
            "Epoch 151/200\n",
            "58/58 [==============================] - 1s 16ms/step - loss: 0.0087\n",
            "Epoch 152/200\n",
            "58/58 [==============================] - 1s 16ms/step - loss: 0.0215\n",
            "Epoch 153/200\n",
            "58/58 [==============================] - 1s 16ms/step - loss: 0.0119\n",
            "Epoch 154/200\n",
            "58/58 [==============================] - 1s 16ms/step - loss: 0.0277\n",
            "Epoch 155/200\n",
            "58/58 [==============================] - 1s 16ms/step - loss: 0.0087\n",
            "Epoch 156/200\n",
            "58/58 [==============================] - 1s 16ms/step - loss: 0.0106\n",
            "Epoch 157/200\n",
            "58/58 [==============================] - 1s 16ms/step - loss: 0.0093\n",
            "Epoch 158/200\n",
            "58/58 [==============================] - 1s 16ms/step - loss: 0.0113\n",
            "Epoch 159/200\n",
            "58/58 [==============================] - 1s 16ms/step - loss: 0.0095\n",
            "Epoch 160/200\n",
            "58/58 [==============================] - 1s 16ms/step - loss: 0.0086\n",
            "Epoch 161/200\n",
            "58/58 [==============================] - 1s 16ms/step - loss: 0.0082\n",
            "Epoch 162/200\n",
            "58/58 [==============================] - 1s 16ms/step - loss: 0.0089\n",
            "Epoch 163/200\n",
            "58/58 [==============================] - 1s 17ms/step - loss: 0.0086\n",
            "Epoch 164/200\n",
            "58/58 [==============================] - 1s 16ms/step - loss: 0.0081\n",
            "Epoch 165/200\n",
            "58/58 [==============================] - 1s 16ms/step - loss: 0.0079\n",
            "Epoch 166/200\n",
            "58/58 [==============================] - 1s 16ms/step - loss: 0.0116\n",
            "Epoch 167/200\n",
            "58/58 [==============================] - 1s 16ms/step - loss: 0.0092\n",
            "Epoch 168/200\n",
            "58/58 [==============================] - 1s 16ms/step - loss: 0.0075\n",
            "Epoch 169/200\n",
            "58/58 [==============================] - 1s 17ms/step - loss: 0.0084\n",
            "Epoch 170/200\n",
            "58/58 [==============================] - 1s 16ms/step - loss: 0.0078\n",
            "Epoch 171/200\n",
            "58/58 [==============================] - 1s 18ms/step - loss: 0.0080\n",
            "Epoch 172/200\n",
            "58/58 [==============================] - 1s 18ms/step - loss: 0.0085\n",
            "Epoch 173/200\n",
            "58/58 [==============================] - 1s 20ms/step - loss: 0.0100\n",
            "Epoch 174/200\n",
            "58/58 [==============================] - 1s 18ms/step - loss: 0.0077\n",
            "Epoch 175/200\n",
            "58/58 [==============================] - 1s 18ms/step - loss: 0.0088\n",
            "Epoch 176/200\n",
            "58/58 [==============================] - 1s 17ms/step - loss: 0.0087\n",
            "Epoch 177/200\n",
            "58/58 [==============================] - 1s 18ms/step - loss: 0.0106\n",
            "Epoch 178/200\n",
            "58/58 [==============================] - 1s 18ms/step - loss: 0.0083\n",
            "Epoch 179/200\n",
            "58/58 [==============================] - 1s 17ms/step - loss: 0.0079\n",
            "Epoch 180/200\n",
            "58/58 [==============================] - 1s 18ms/step - loss: 0.0097\n",
            "Epoch 181/200\n",
            "58/58 [==============================] - 1s 17ms/step - loss: 0.0154\n",
            "Epoch 182/200\n",
            "58/58 [==============================] - 1s 16ms/step - loss: 0.0103\n",
            "Epoch 183/200\n",
            "58/58 [==============================] - 1s 17ms/step - loss: 0.0082\n",
            "Epoch 184/200\n",
            "58/58 [==============================] - 1s 16ms/step - loss: 0.0097\n",
            "Epoch 185/200\n",
            "58/58 [==============================] - 1s 16ms/step - loss: 0.0113\n",
            "Epoch 186/200\n",
            "58/58 [==============================] - 1s 17ms/step - loss: 0.0081\n",
            "Epoch 187/200\n",
            "58/58 [==============================] - 1s 16ms/step - loss: 0.0129\n",
            "Epoch 188/200\n",
            "58/58 [==============================] - 1s 17ms/step - loss: 0.0106\n",
            "Epoch 189/200\n",
            "58/58 [==============================] - 1s 16ms/step - loss: 0.0083\n",
            "Epoch 190/200\n",
            "58/58 [==============================] - 1s 16ms/step - loss: 0.0093\n",
            "Epoch 191/200\n",
            "58/58 [==============================] - 1s 16ms/step - loss: 0.0081\n",
            "Epoch 192/200\n",
            "58/58 [==============================] - 1s 16ms/step - loss: 0.0094\n",
            "Epoch 193/200\n",
            "58/58 [==============================] - 1s 17ms/step - loss: 0.0084\n",
            "Epoch 194/200\n",
            "58/58 [==============================] - 1s 16ms/step - loss: 0.0079\n",
            "Epoch 195/200\n",
            "58/58 [==============================] - 1s 16ms/step - loss: 0.0113\n",
            "Epoch 196/200\n",
            "58/58 [==============================] - 1s 16ms/step - loss: 0.0081\n",
            "Epoch 197/200\n",
            "58/58 [==============================] - 1s 16ms/step - loss: 0.0081\n",
            "Epoch 198/200\n",
            "58/58 [==============================] - 1s 16ms/step - loss: 0.0083\n",
            "Epoch 199/200\n",
            "58/58 [==============================] - 1s 16ms/step - loss: 0.0094\n",
            "Epoch 200/200\n",
            "58/58 [==============================] - 1s 17ms/step - loss: 0.0091\n"
          ]
        },
        {
          "output_type": "execute_result",
          "data": {
            "text/plain": [
              "<keras.callbacks.History at 0x7f4e08428050>"
            ]
          },
          "metadata": {},
          "execution_count": 102
        }
      ],
      "source": [
        "# univariate stacked lstm example\n",
        "from numpy import array\n",
        "from keras.models import Sequential\n",
        "from keras.layers import LSTM\n",
        "from keras.layers import Dense\n",
        "x_window_set,y_window_set=np.array(x),np.array(y)\n",
        "\n",
        "# reshape from [samples, timesteps] into [samples, timesteps, features]\n",
        "\n",
        "# define model\n",
        "model = Sequential()\n",
        "model.add(LSTM(50, activation='relu', return_sequences=True, input_shape=(x_window_set.shape[1],6)))\n",
        "model.add(LSTM(50, activation='relu'))\n",
        "model.add(Dense(1))\n",
        "model.compile(optimizer='adam', loss='mse')\n",
        "# fit model\n",
        "\n",
        "model.fit(x_window_set, y_window_set, epochs=200, batch_size=128)\n",
        "# demonstrate prediction\n"
      ]
    },
    {
      "cell_type": "code",
      "source": [
        "x_real_test=df[train_time-7:]\n",
        "x_a_real_test=np.array(x_real_test)\n",
        "x_t_scaled=scaler.transform(x_a_real_test)\n",
        "x_t=[]\n",
        "y_t=[]\n",
        "for i in range(7,x_t_scaled.shape[0]):\n",
        "  x_t.append(x_t_scaled[i-7:i])\n",
        "  y_t.append(x_t_scaled[i,0])\n",
        "  \n",
        "x_test_window_set,y_test_window_set=np.array(x_t),np.array(y_t)\n",
        "predicted_value=model.predict(x_test_window_set)"
      ],
      "metadata": {
        "colab": {
          "base_uri": "https://localhost:8080/"
        },
        "id": "tzNcICE7aqwY",
        "outputId": "1250f270-2de3-4a8a-dae9-23cf8db4d6af"
      },
      "execution_count": 103,
      "outputs": [
        {
          "output_type": "stream",
          "name": "stderr",
          "text": [
            "/usr/local/lib/python3.7/dist-packages/sklearn/base.py:451: UserWarning: X does not have valid feature names, but RobustScaler was fitted with feature names\n",
            "  \"X does not have valid feature names, but\"\n"
          ]
        }
      ]
    },
    {
      "cell_type": "code",
      "source": [
        "m = tf.keras.metrics.MeanAbsolutePercentageError()#initialize the MAPE class.\n",
        "m.update_state(y_test_window_set,predicted_value)#calculate MAPE on Actual testing values and forecasted values\n",
        "m.result().numpy()"
      ],
      "metadata": {
        "colab": {
          "base_uri": "https://localhost:8080/"
        },
        "id": "X1UOswbja4VJ",
        "outputId": "6cbf276f-53e8-4ef9-ef03-76dc754b2b3c"
      },
      "execution_count": 104,
      "outputs": [
        {
          "output_type": "execute_result",
          "data": {
            "text/plain": [
              "7.67525"
            ]
          },
          "metadata": {},
          "execution_count": 104
        }
      ]
    },
    {
      "cell_type": "code",
      "source": [
        "y_test_window_set.shape"
      ],
      "metadata": {
        "colab": {
          "base_uri": "https://localhost:8080/"
        },
        "id": "Hx7mu6AKb4rf",
        "outputId": "44e83dfb-0d81-41cd-f3df-d432172255bb"
      },
      "execution_count": 105,
      "outputs": [
        {
          "output_type": "execute_result",
          "data": {
            "text/plain": [
              "(3135,)"
            ]
          },
          "metadata": {},
          "execution_count": 105
        }
      ]
    },
    {
      "cell_type": "code",
      "source": [
        "time=np.arange(1,3136+7)"
      ],
      "metadata": {
        "id": "tpSrxkY2b0dk"
      },
      "execution_count": 109,
      "outputs": []
    },
    {
      "cell_type": "code",
      "source": [
        "plt.figure(figsize=(30,12))#Set the figure size\n",
        "plt.plot(time[7:],y_test_window_set,color='blue',label=\"true values\")#Plot the true testing value in blue\n",
        "plt.plot(time[7:],predicted_value,color='red',label='predicted value')#Plot the predicted value in red\n",
        "plt.xlabel('Time in Days')#set label of x as Time\n",
        "plt.ylabel('Stock Price')#set label of y as Value\n",
        "plt.legend()#show the labels\n",
        "plt.show()#show the plot2"
      ],
      "metadata": {
        "colab": {
          "base_uri": "https://localhost:8080/",
          "height": 714
        },
        "id": "idjuNRxkfq6u",
        "outputId": "76e77b74-c43a-43b2-9eff-f9531fae3b50"
      },
      "execution_count": 110,
      "outputs": [
        {
          "output_type": "display_data",
          "data": {
            "text/plain": [
              "<Figure size 2160x864 with 1 Axes>"
            ],
            "image/png": "[encoded data removed]"
          },
          "metadata": {
            "needs_background": "light"
          }
        }
      ]
    },
    {
      "cell_type": "code",
      "source": [
        ""
      ],
      "metadata": {
        "id": "WFRI2VQ1s1We"
      },
      "execution_count": null,
      "outputs": []
    }
  ],
  "metadata": {
    "colab": {
      "collapsed_sections": [],
      "name": "Stock_analysis.ipynb",
      "provenance": [],
      "include_colab_link": true
    },
    "kernelspec": {
      "display_name": "Python 3",
      "name": "python3"
    },
    "language_info": {
      "name": "python"
    }
  },
  "nbformat": 4,
  "nbformat_minor": 0
}